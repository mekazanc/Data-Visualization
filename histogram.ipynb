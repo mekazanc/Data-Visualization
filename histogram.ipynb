{
  "nbformat": 4,
  "nbformat_minor": 0,
  "metadata": {
    "colab": {
      "name": "histogram.ipynb",
      "provenance": [],
      "collapsed_sections": [],
      "authorship_tag": "ABX9TyN3tbuvCNlD2b29+hnx6+n6",
      "include_colab_link": true
    },
    "kernelspec": {
      "name": "python3",
      "display_name": "Python 3"
    }
  },
  "cells": [
    {
      "cell_type": "markdown",
      "metadata": {
        "id": "view-in-github",
        "colab_type": "text"
      },
      "source": [
        "<a href=\"https://colab.research.google.com/github/mekazanc/visualization/blob/master/histogram.ipynb\" target=\"_parent\"><img src=\"https://colab.research.google.com/assets/colab-badge.svg\" alt=\"Open In Colab\"/></a>"
      ]
    },
    {
      "cell_type": "markdown",
      "metadata": {
        "id": "zal0V44aorhc",
        "colab_type": "text"
      },
      "source": [
        "Histogram Plots\n",
        "\n",
        "In this tutorial, I applied some visualization techniques that is so simple. \n",
        "You can simply use in your work. \n",
        "\n",
        "I took them from a very nice tutorial whose link is below and added a few more lines/parameters \n",
        "\n",
        "https://github.com/CoreyMSchafer/code_snippets/blob/master/Python/Matplotlib/06-Histograms/starting_code.py\n"
      ]
    },
    {
      "cell_type": "code",
      "metadata": {
        "id": "ieNxO8Fbn7Px",
        "colab_type": "code",
        "colab": {
          "base_uri": "https://localhost:8080/",
          "height": 397
        },
        "outputId": "9cf88ec5-f9a0-44e2-e25f-cf2742b79095"
      },
      "source": [
        "import pandas as pd\n",
        "from matplotlib import pyplot as plt\n",
        "import numpy as np\n",
        "\n",
        "\n",
        "plt.style.use('seaborn')\n",
        "\n",
        "data = [1,1,2,3,3,5,7,8,9,10,\n",
        "     10,11,11,13,13,15,16,17,18,18,\n",
        "     18,19,20,21,21,23,24,24,25,25,\n",
        "     25,25,26,26,26,27,27,27,27,27,\n",
        "     29,30,30,31,33,34,34,34,35,36,\n",
        "     36,37,37,38,38,39,40,41,41,42,\n",
        "     43,44,45,45,46,47,48,48,49,50,\n",
        "     51,52,53,54,55,55,56,57,58,60,\n",
        "     61,63,64,65,66,68,70,71,72,74,\n",
        "     75,77,81,83,84,87,89,90,90,91\n",
        "     ]\n",
        "\n",
        "mean_data = sum(data)/len(data)\n",
        "std_data = np.std(data)\n",
        "\n",
        "bins = 10\n",
        "# you can also give like:  bins = [1,2,3,4,5,6,7,8,9,0] \n",
        "\n",
        "\n",
        "plt.hist(data, bins=bins, edgecolor='black', log=False,alpha=0.7, rwidth=0.85)\n",
        "\n",
        "median_age = 50\n",
        "color = '#fc4f30'\n",
        "\n",
        "plt.axvline(median_age, color=color, label='Age Median', linewidth=4)\n",
        "\n",
        "plt.text(63,15,r'$\\mu=(%s) $'%(mean_data))\n",
        "\n",
        "\n",
        "plt.legend()\n",
        "\n",
        "plt.title('Histogram Plots')\n",
        "plt.xlabel('Classes')\n",
        "plt.ylabel('Count of Classes')\n",
        "\n",
        "plt.grid(axis='x', alpha=0.75)\n",
        "\n",
        "plt.tight_layout()\n",
        "\n",
        "plt.show()\n",
        "\n"
      ],
      "execution_count": 47,
      "outputs": [
        {
          "output_type": "display_data",
          "data": {
            "image/png": "[encoded data removed]",
            "text/plain": [
              "<Figure size 576x396 with 1 Axes>"
            ]
          },
          "metadata": {
            "tags": []
          }
        }
      ]
    },
    {
      "cell_type": "code",
      "metadata": {
        "id": "GIgu39M0qvoL",
        "colab_type": "code",
        "colab": {}
      },
      "source": [
        ""
      ],
      "execution_count": null,
      "outputs": []
    }
  ]
}